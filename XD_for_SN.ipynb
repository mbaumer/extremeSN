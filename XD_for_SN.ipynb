{
 "metadata": {
  "name": "",
  "signature": "sha256:0120351c36c3c0282dd45ec319d952c5c0777c82f6f54d5d595ba5d91c72a33a"
 },
 "nbformat": 3,
 "nbformat_minor": 0,
 "worksheets": [
  {
   "cells": [
    {
     "cell_type": "code",
     "collapsed": false,
     "input": [
      "%matplotlib inline\n",
      "import matplotlib.pyplot as plt\n",
      "import numpy as np\n",
      "from IPython.html.widgets import interact, interactive, fixed\n",
      "from IPython.html import widgets"
     ],
     "language": "python",
     "metadata": {},
     "outputs": [],
     "prompt_number": 44
    },
    {
     "cell_type": "code",
     "collapsed": false,
     "input": [
      "%debug\n",
      "from astroML.density_estimation import XDGMM\n",
      "from astroML.plotting.tools import draw_ellipse\n",
      "\n",
      "data = np.loadtxt('wavelets_training.txt')\n",
      "truth = data[:,14]\n",
      "data = data[:,:14]\n",
      "\n",
      "#plot data in some interesting \n",
      "mask = np.ones(data.shape[0])\n",
      "for i in np.arange(data.shape[1]):\n",
      "    mask = mask*(data[:,i] < np.median(data[:,i]) + 2*np.std(data[:,i]))*(data[:,i] > np.median(data[:,i]) - 2*np.std(data[:,i]))\n",
      "\n",
      "data = data[np.array(mask,dtype='bool'),:]\n",
      "truth = truth[np.array(mask,dtype='bool')]\n",
      "    \n",
      "t1a = data[truth==1,:]\n",
      "t1bc = data[truth==2,:]\n",
      "t2 = data[truth==3,:]\n",
      "    \n",
      "ax1 = plt.subplot(311)\n",
      "plt.title('Raw Data')\n",
      "ax1.scatter(t1a[:,3],t1a[:,4],c='r')\n",
      "ax1.scatter(t1bc[:,3],t1bc[:,4],c='b')\n",
      "ax1.scatter(t2[:,3],t2[:,4],c='g')\n",
      "\n",
      "#generate random covariance matrix; perturb data\n",
      "covmat = np.zeros((data.shape[1],data.shape[1]))\n",
      "#XD function needs to be delivered a list of covariance matrices\n",
      "covmatlist1 = np.dstack((covmat,covmat))\n",
      "covmatlist2 = np.dstack((covmat,covmat))\n",
      "covmatlist3 = np.dstack((covmat,covmat))\n",
      "while covmatlist1.shape[2] < t1a.shape[0]:\n",
      "    covmatlist1 = np.dstack((covmatlist1,covmat))\n",
      "while covmatlist2.shape[2] < t1bc.shape[0]:\n",
      "    covmatlist2 = np.dstack((covmatlist2,covmat))\n",
      "while covmatlist3.shape[2] < t2.shape[0]:\n",
      "    covmatlist3 = np.dstack((covmatlist3,covmat))\n",
      "\n",
      "# fit the model\n",
      "xdgmm1 = XDGMM(n_components=3)\n",
      "xdgmm2 = XDGMM(n_components=3)\n",
      "xdgmm3 = XDGMM(n_components=3)\n",
      "xdgmm1.fit(t1a, covmatlist.transpose())\n",
      "xdgmm2.fit(t1bc, covmatlist.transpose())\n",
      "xdgmm3.fit(t2, covmatlist.transpose())\n",
      "\n",
      "#logp=xdgmm.logprob_a(data, covmat) # evaluate probability\n",
      "resampledXD1 =  xdgmm1.sample(100)\n",
      "resampledXD2 =  xdgmm2.sample(100)\n",
      "resampledXD3 =  xdgmm3.sample(100)\n",
      "\n",
      "#this section will eventually plot the underlying XD contours, but currently doesn't work...\n",
      "#when it finally does, be sure to change the three other subplots commands to 411, etc.\n",
      "#ax3 = plt.subplot(413,sharex=ax1,sharey=ax1)\n",
      "#for i in range(xdgmm.n_components):\n",
      "#    draw_ellipse(xdgmm.mu[i], xdgmm.V[i], scales=[2], ax=ax3,\n",
      "#                 ec='k', fc='b', alpha=0.2)\n",
      "\n",
      "ax3 = plt.subplot(312,sharex=ax1,sharey=ax1)\n",
      "\n",
      "for i in range(xdgmm.n_components):\n",
      "    draw_ellipse(xdgmm.mu[i], xdgmm.V[i], scales=[2], ax=ax3,\n",
      "                 ec='k', fc='gray', alpha=0.2)\n",
      "    \n",
      "\n",
      "#plot the resampled data drawn from the XD density model\n",
      "ax4 = plt.subplot(313,sharex=ax1,sharey=ax1)\n",
      "ax4.scatter(resampledXD1[:,3],resampledXD1[:,4],c='r')\n",
      "ax4.scatter(resampledXD2[:,3],resampledXD2[:,4],c='b')\n",
      "ax4.scatter(resampledXD3[:,3],resampledXD3[:,4],c='g')"
     ],
     "language": "python",
     "metadata": {},
     "outputs": []
    },
    {
     "cell_type": "code",
     "collapsed": false,
     "input": [
      "type(mask)"
     ],
     "language": "python",
     "metadata": {},
     "outputs": [
      {
       "metadata": {},
       "output_type": "pyout",
       "prompt_number": 17,
       "text": [
        "numpy.ndarray"
       ]
      }
     ],
     "prompt_number": 17
    },
    {
     "cell_type": "code",
     "collapsed": false,
     "input": [
      "a=0; b=4\n",
      "plt.figure()\n",
      "plt.title('Demonstrating XD')\n",
      "ax1 = plt.subplot(311)\n",
      "ax1.scatter(data[:,a],data[:,b])\n",
      "ax2 = plt.subplot(312,sharex=ax1,sharey=ax1)\n",
      "ax2.scatter(noisyData[:,a],noisyData[:,b])\n",
      "ax4 = plt.subplot(313,sharex=ax1,sharey=ax1)\n",
      "ax4.scatter(resampledXD[:,a],resampledXD[:,b])"
     ],
     "language": "python",
     "metadata": {},
     "outputs": []
    }
   ],
   "metadata": {}
  }
 ]
}