{
 "metadata": {
  "name": ""
 },
 "nbformat": 3,
 "nbformat_minor": 0,
 "worksheets": [
  {
   "cells": [
    {
     "cell_type": "code",
     "collapsed": false,
     "input": [
      "def roc(pr, Yt):\n",
      "    probs=pr.copy()\n",
      "    Y_test=Yt.copy()\n",
      "    if len(shape(pr))>1:\n",
      "        probs_1=probs[:, 0]\n",
      "    else:\n",
      "        probs_1=probs\n",
      "    threshold=linspace(0., 1., 50)\n",
      "    tpr=[0]*len(threshold)\n",
      "    fpr=[0]*len(threshold)\n",
      "    Y_test[Y_test==2]=0\n",
      "    Y_test[Y_test==3]=0\n",
      "    for i in range(len(threshold)):\n",
      "        preds=zeros(len(Y_test))\n",
      "        preds[probs_1>=threshold[i]]=1\n",
      "        TP=sum((preds==1) & (Y_test==1))\n",
      "        FP=sum((preds==1) &(Y_test==0))\n",
      "        TN=sum((preds==0) & (Y_test==0))\n",
      "        FN=sum((preds==0) & (Y_test==1))\n",
      "        if TP==0:\n",
      "            tpr[i]=0\n",
      "        else:\n",
      "            tpr[i]=TP/(float)(TP+FN)\n",
      "            \n",
      "        fpr[i]=FP/(float)(FP+TN)\n",
      "    fpr=array(fpr)[::-1]\n",
      "    tpr=array(tpr)[::-1]\n",
      "    \n",
      "    auc=trapz(tpr, fpr)\n",
      "    return fpr, tpr, auc"
     ],
     "language": "python",
     "metadata": {},
     "outputs": []
    },
    {
     "cell_type": "code",
     "collapsed": false,
     "input": [
      "def plot_roc(probs,Y_test):\n",
      "    fpr,tpr,auc=roc(probs,Y_test)\n",
      "    figure(figsize=(10, 10))\n",
      "  \n",
      "    linew=2.5\n",
      "    plot(fpr,tpr, color='b', lw=linew)\n",
      "    \n",
      "    ax=gca()\n",
      "    ax.set_aspect(1.0)\n",
      "    setup_plot(ax)\n",
      "    title('ROC Curve, AUC=%.3f' %(auc), fontsize=22)\n",
      "    xlabel('False positive rate (contamination)', fontsize=18)\n",
      "    ylabel('True positive rate (completeness)', fontsize=18)\n",
      "    \n",
      "    subplots_adjust(bottom=0.08,left=0.05, top=0.92, right=0.95)\n",
      "    show()"
     ],
     "language": "python",
     "metadata": {},
     "outputs": []
    }
   ],
   "metadata": {}
  }
 ]
}